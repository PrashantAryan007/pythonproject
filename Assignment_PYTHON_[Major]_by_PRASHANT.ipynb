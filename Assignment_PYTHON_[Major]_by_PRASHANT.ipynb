{
  "nbformat": 4,
  "nbformat_minor": 0,
  "metadata": {
    "colab": {
      "provenance": []
    },
    "kernelspec": {
      "name": "python3",
      "display_name": "Python 3"
    },
    "language_info": {
      "name": "python"
    }
  },
  "cells": [
    {
      "cell_type": "code",
      "source": [
        "#Q1. Find the datatype of these two declaration :\n",
        "x = 5\n",
        "y = \"John\"\n",
        "print(type(x),type(y))"
      ],
      "metadata": {
        "colab": {
          "base_uri": "https://localhost:8080/"
        },
        "id": "EE8DBYb8CrUE",
        "outputId": "2e125544-8f14-48ef-da5f-ce86b05b1510"
      },
      "execution_count": 2,
      "outputs": [
        {
          "output_type": "stream",
          "name": "stdout",
          "text": [
            "<class 'int'> <class 'str'>\n"
          ]
        }
      ]
    },
    {
      "cell_type": "code",
      "source": [
        "# Q2. Valid variable names\n",
        "a100 = 100\n",
        "_a984_ = 100\n",
        "# Invalid variable names\n",
        "# 3a = 10 # SyntaxError: invalid syntax\n",
        "# @abc = 10 # SyntaxError: invalid syntax\n",
        "# a9967$ = 100 # SyntaxError: invalid syntax\n",
        "# xyz-2 = 100 # SyntaxError: cannot assign to operator\n",
        "\n"
      ],
      "metadata": {
        "id": "CJhHZ87nEEHM"
      },
      "execution_count": 6,
      "outputs": []
    },
    {
      "cell_type": "code",
      "source": [
        "#Q3. Check if element exists in list in Python :\n",
        "# list = test_list = [1, 6, 3, 5, 3, 4]\n",
        "# 1. Check if 3 exist or not\n",
        "# 2. Check if 9 exist or not\n",
        "test_list = [1, 6, 3, 5, 3, 4]\n",
        "\n",
        "# Check if 3 exists in the list\n",
        "if 3 in test_list:\n",
        "    print(\"3 exists in the list\")\n",
        "else:\n",
        "    print(\"3 does not exist in the list\")\n",
        "\n",
        "# Check if 9 exists in the list\n",
        "if 9 in test_list:\n",
        "    print(\"9 exists in the list\")\n",
        "else:\n",
        "    print(\"9 does not exist in the list\")\n",
        "\n"
      ],
      "metadata": {
        "colab": {
          "base_uri": "https://localhost:8080/"
        },
        "id": "8TWmp-HjEs-n",
        "outputId": "fff0e82f-7f7d-4296-f5c1-1e661262834e"
      },
      "execution_count": 8,
      "outputs": [
        {
          "output_type": "stream",
          "name": "stdout",
          "text": [
            "3 exists in the list\n",
            "9 does not exist in the list\n"
          ]
        }
      ]
    },
    {
      "cell_type": "code",
      "source": [
        "#Q4. Take the user input to print the current date\n",
        "from datetime import date\n",
        "\n",
        "input(\"Press any key to print the current date: \")\n",
        "today = date.today()\n",
        "print(\"Today's date is:\", today)"
      ],
      "metadata": {
        "colab": {
          "base_uri": "https://localhost:8080/"
        },
        "id": "bTzULZEEFwB0",
        "outputId": "3519214c-9d4d-4c07-c6dc-176d406b883d"
      },
      "execution_count": 9,
      "outputs": [
        {
          "output_type": "stream",
          "name": "stdout",
          "text": [
            "Press any key to print the current date: 4\n",
            "Today's date is: 2023-04-08\n"
          ]
        }
      ]
    },
    {
      "cell_type": "code",
      "execution_count": 1,
      "metadata": {
        "colab": {
          "base_uri": "https://localhost:8080/"
        },
        "id": "wNmxU8-XCWqo",
        "outputId": "7f9d52a9-e8cf-4082-efd7-aa41033bd64a"
      },
      "outputs": [
        {
          "output_type": "stream",
          "name": "stdout",
          "text": [
            "4\n",
            "1\n"
          ]
        }
      ],
      "source": [
        "#Q5. what is the output of the following code :a. print 9//2  b. print 9%2\n",
        "x = 9\n",
        "y = 2 \n",
        "print (x//y)\n",
        "print(x%y)"
      ]
    },
    {
      "cell_type": "code",
      "source": [
        "#Q6. Print First 10 natural numbers using a while loop\n",
        "i = 1\n",
        "while i <= 10 :\n",
        "  print(i)\n",
        "  i += 1"
      ],
      "metadata": {
        "colab": {
          "base_uri": "https://localhost:8080/"
        },
        "id": "en0LdQGPGsnJ",
        "outputId": "ae8ff53d-3f5c-415e-de4c-11d69731a2fb"
      },
      "execution_count": 14,
      "outputs": [
        {
          "output_type": "stream",
          "name": "stdout",
          "text": [
            "1\n",
            "2\n",
            "3\n",
            "4\n",
            "5\n",
            "6\n",
            "7\n",
            "8\n",
            "9\n",
            "10\n"
          ]
        }
      ]
    },
    {
      "cell_type": "code",
      "source": [
        "#Q7. Write a program to accept a number from a user and calculate\n",
        "#the sum of all numbers from 1 to a given number.\n",
        "# For example, if the user entered 10 the output should be 55\n",
        "# (1+2+3+4+5+6+7+8+9+10)\n",
        "n = int(input(\"Enter a number\"))\n",
        "total = 0\n",
        "for i in range(1, n+1):\n",
        "    total += i\n",
        "print(f\"the sum of all numbers from 1 to {n} is: {total}\")\n"
      ],
      "metadata": {
        "colab": {
          "base_uri": "https://localhost:8080/"
        },
        "id": "29_cAxo6HdiS",
        "outputId": "2065eccb-61fb-4644-d4b7-a4b6114713d1"
      },
      "execution_count": 15,
      "outputs": [
        {
          "output_type": "stream",
          "name": "stdout",
          "text": [
            "Enter a number5\n",
            "the sum of all numbers from 1 to 5 is: 15\n"
          ]
        }
      ]
    },
    {
      "cell_type": "code",
      "source": [
        "#Q8. Write a Python program which iterates the integers from 1 to 50.\n",
        "# For multiples of three print \"Fizz\" instead of the number and for\n",
        "# the multiples of five print \"Buzz\". For numbers which are\n",
        "# multiples of both three and five print \"FizzBuzz\".\n",
        "# Example :\n",
        "# fizzbuzz\n",
        "# 1\n",
        "# 2\n",
        "# fizz\n",
        "# 4\n",
        "# buzz\n",
        "for i in range(1, 51):\n",
        "    if i % 3 == 0 and i % 5 == 0:\n",
        "        print(\"FizzBuzz\")\n",
        "    elif i % 3 ==0:\n",
        "        print(\"Fizz\")\n",
        "    elif i % 5 == 0:\n",
        "        print(\"Buzz\")\n",
        "    else:\n",
        "        print(i)\n"
      ],
      "metadata": {
        "colab": {
          "base_uri": "https://localhost:8080/"
        },
        "id": "CzW2vza3IW_S",
        "outputId": "dd1c7de1-02aa-4d52-f9d0-9d48715ca9cc"
      },
      "execution_count": 16,
      "outputs": [
        {
          "output_type": "stream",
          "name": "stdout",
          "text": [
            "1\n",
            "2\n",
            "Fizz\n",
            "4\n",
            "Buzz\n",
            "Fizz\n",
            "7\n",
            "8\n",
            "Fizz\n",
            "Buzz\n",
            "11\n",
            "Fizz\n",
            "13\n",
            "14\n",
            "FizzBuzz\n",
            "16\n",
            "17\n",
            "Fizz\n",
            "19\n",
            "Buzz\n",
            "Fizz\n",
            "22\n",
            "23\n",
            "Fizz\n",
            "Buzz\n",
            "26\n",
            "Fizz\n",
            "28\n",
            "29\n",
            "FizzBuzz\n",
            "31\n",
            "32\n",
            "Fizz\n",
            "34\n",
            "Buzz\n",
            "Fizz\n",
            "37\n",
            "38\n",
            "Fizz\n",
            "Buzz\n",
            "41\n",
            "Fizz\n",
            "43\n",
            "44\n",
            "FizzBuzz\n",
            "46\n",
            "47\n",
            "Fizz\n",
            "49\n",
            "Buzz\n"
          ]
        }
      ]
    }
  ]
}